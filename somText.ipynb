{
 "cells": [
  {
   "cell_type": "code",
   "execution_count": null,
   "metadata": {
    "collapsed": true
   },
   "outputs": [],
   "source": [
    "\"\"\"\n",
    "Summary:\n",
    "\n",
    "A Self-Organizing Map is an unsupervised learning algorithm that reduces the dimensionality of a dataset.\n",
    "It's a neural network at it's core, but it doesn't function in the same way that artificial neural networks\n",
    "(CNN's and RNN's) do(They are supervised learning algo's).It's weights  are characteristics of the hidden nodes\n",
    "(so no activation functions are used. We're also not forward propagating to update new features\n",
    "and backward propagating to update our weights and correct our learning errors.) The learning methodology is completely different\n",
    "and less complex. It simply calculates the euclidean  distances between the nodes and the inputs, chooses the nodes that had\n",
    "the shortest distance, update its weights (and the neighbors under its radius), and then(after a series of iterations)\n",
    "forms clusters. They're are capable of learning correlations in the data that aren't easily identified and are capable \n",
    "of retaining the datas topology.\n",
    "\n",
    "\n",
    "\n",
    "To learn more about SOM's you can check these links out:\n",
    "- http://www.ai-junkie.com/ann/som/som1.html\n",
    "- http://sci2s.ugr.es/keel/pdf/algorithm/articulo/1990-Kohonen-PIEEE.pdf\n",
    "\n",
    "\n",
    "\n",
    "\"\"\""
   ]
  },
  {
   "cell_type": "code",
   "execution_count": 1,
   "metadata": {},
   "outputs": [
    {
     "name": "stdout",
     "output_type": "stream",
     "text": [
      "[nltk_data] Downloading package stopwords to\n",
      "[nltk_data]     C:\\Users\\abdul_000.HP1\\AppData\\Roaming\\nltk_data...\n",
      "[nltk_data]   Package stopwords is already up-to-date!\n"
     ]
    }
   ],
   "source": [
    "import numpy as np\n",
    "import pandas as pd\n",
    "\n",
    "# Self-Organizing Maps visualization tools\n",
    "from pylab import pcolor,colorbar,bone,plot,show\n",
    "\n",
    "# Natural Languange Processing library - Used to clean the texts\n",
    "import re\n",
    "import nltk\n",
    "nltk.download(\"stopwords\")\n",
    "from nltk.corpus import stopwords\n",
    "from nltk.stem.porter import PorterStemmer\n",
    "\n",
    "#Importing the dataset\n",
    "dataset = pd.read_csv(\"openreg_dataset.csv\")\n",
    "text = dataset.iloc[:,2].values\n",
    "text = list(text)\n",
    "\n"
   ]
  },
  {
   "cell_type": "code",
   "execution_count": 7,
   "metadata": {},
   "outputs": [
    {
     "name": "stdout",
     "output_type": "stream",
     "text": [
      "Story highlights More than 77,000 infections have been registered this year\n",
      "\n",
      "The health minister blames a garbage crisis in the country's capital\n",
      "\n",
      "(CNN) A deadly outbreak of dengue fever has ravaged the island nation of Sri Lanka, killing at least 227 people and infecting tens of thousands.\n",
      "\n",
      "Experts worry the death toll could yet increase, as the country's health infrastructure struggles to cope with the virus' rapid spread.\n",
      "\n",
      "\"Dengue will get worse as flood waters recede further,\" Health Minister Rajitha Senaratne said in comments made to state-owned media outlet Daily News.\n",
      "\n",
      "The government has deployed 450 troops in a bid to help combat the spread of the disease.\n",
      "\n",
      "\"We are assisting health inspectors to search for dengue breeding areas and have also set up temporary wards at the Negombo Hospital on the outskirts of Colombo to tackle the issue,\" Sri Lankan Army spokesman Brigadier Roshan Senevirathana told CNN.\n"
     ]
    }
   ],
   "source": [
    "#Removing NaN (empty spaces) in the list of articles\n",
    "#Ignore error\n",
    "for i in range(len(text)):\n",
    "    if type(text[i]) == float:\n",
    "        text.pop(i)\n",
    "    \n",
    "#testing text\n",
    "print(text[0])"
   ]
  },
  {
   "cell_type": "code",
   "execution_count": 9,
   "metadata": {},
   "outputs": [
    {
     "name": "stdout",
     "output_type": "stream",
     "text": [
      "stori highlight infect regist year health minist blame garbag crisi countri capit cnn deadli outbreak dengu fever ravag island nation sri lanka kill least peopl infect ten thousand expert worri death toll could yet increas countri health infrastructur struggl cope viru rapid spread dengu get wors flood water reced health minist rajitha senaratn said comment made state own media outlet daili news govern deploy troop bid help combat spread diseas assist health inspector search dengu breed area also set temporari ward negombo hospit outskirt colombo tackl issu sri lankan armi spokesman brigadi roshan senevirathana told cnn\n"
     ]
    }
   ],
   "source": [
    "#Declaring the stemming object\n",
    "ps = PorterStemmer()\n",
    "\n",
    "cleaned_text = []\n",
    "\n",
    "# Creating the clean version\n",
    "for i in range(len(text)):\n",
    "    newver = re.sub('[^a-zA-z]',' ', text[i])\n",
    "    newver = newver.lower()\n",
    "    newver = newver.split()\n",
    "    newver = [ps.stem(word) for word in newver if not word in stopwords.words('english')]\n",
    "    newver = ' '.join(newver)\n",
    "    cleaned_text.append(newver)\n",
    "    \n",
    "#Compare the clean version to the one showcased above\n",
    "print(cleaned_text[0])"
   ]
  },
  {
   "cell_type": "code",
   "execution_count": 11,
   "metadata": {},
   "outputs": [
    {
     "name": "stdout",
     "output_type": "stream",
     "text": [
      "[[0 0 0 ..., 0 0 0]\n",
      " [0 0 0 ..., 0 0 0]\n",
      " [0 0 0 ..., 0 0 0]\n",
      " ..., \n",
      " [0 0 0 ..., 0 0 0]\n",
      " [0 0 0 ..., 0 0 0]\n",
      " [0 0 0 ..., 0 0 0]]\n"
     ]
    }
   ],
   "source": [
    "#Creating a sparce matrix to prepare input for the Self-Organizing Maps input nodes.\n",
    "#Similar to what we did in clustering\n",
    "from sklearn.feature_extraction.text import CountVectorizer\n",
    "cv = CountVectorizer(max_features = 100000)\n",
    "X = cv.fit_transform(cleaned_text).toarray()\n",
    "print(X)"
   ]
  },
  {
   "cell_type": "code",
   "execution_count": 17,
   "metadata": {},
   "outputs": [],
   "source": [
    "# Self Organizing Maps\n",
    "from minisom import MiniSom\n",
    "# Parameters = SOM grids dimensions(20,20) - Number of input nodes (= to input features) \n",
    "# sigma = radius surrounding the best matching unit (Gets smallers as you get closer to convergence)\n",
    "# Learning rate = how fast the SOM learn the clusters\n",
    "som = MiniSom(20,20,input_len = 14059, sigma = 1, learning_rate = 0.5 )\n",
    "\n",
    "# Initializing the weights\n",
    "# Note: the weights in SOMs represent the characteristics of the nodes\n",
    "som.random_weights_init(X)\n",
    "# training the model\n",
    "#parameters = data and number of iterations\n",
    "som.train_random(X,1000)"
   ]
  },
  {
   "cell_type": "code",
   "execution_count": 19,
   "metadata": {},
   "outputs": [
    {
     "data": {
      "image/png": "[encoded data removed]",
      "text/plain": [
       "<matplotlib.figure.Figure at 0x2145d687630>"
      ]
     },
     "metadata": {},
     "output_type": "display_data"
    }
   ],
   "source": [
    "#Building the SOM graph\n",
    "# The legend meter: 0(black cell): Mean interneuron distances is really small between the winning node and it's neighbors\n",
    "# 1(white cell) = Mean interneuron distances is huge between the winning node and it's neighbors\n",
    "# Usually means that the general rule isn't being followed and that there is an unusual relationship\n",
    "# between the clusters at hand (sometimes interpreted as an anomaly)\n",
    "bone()\n",
    "pcolor(som.distance_map().T)\n",
    "colorbar()\n",
    "show()\n",
    "\n"
   ]
  },
  {
   "cell_type": "code",
   "execution_count": 26,
   "metadata": {
    "collapsed": true
   },
   "outputs": [],
   "source": [
    "# The clusters in the best winning nodes (Best matching units)\n",
    "mappings = som.win_map(X)\n",
    "\n",
    "#Extracting a specific cluster\n",
    "cluster = mappings[(0,0)]"
   ]
  },
  {
   "cell_type": "code",
   "execution_count": 27,
   "metadata": {},
   "outputs": [
    {
     "name": "stdout",
     "output_type": "stream",
     "text": [
      "[array(['acquir', 'ad', 'add', 'addit', 'ag', 'agre', 'allianc', 'alreadi',\n",
      "       'also', 'analyst', 'anymor', 'apart', 'area', 'autonom', 'base',\n",
      "       'batteri', 'behind', 'benefit', 'benz', 'bnp', 'brand', 'build',\n",
      "       'car', 'carlo', 'carmak', 'ceo', 'chief', 'citi', 'click', 'closer',\n",
      "       'co', 'collabor', 'come', 'compani', 'confer', 'cooper', 'cost',\n",
      "       'counterpart', 'creat', 'daimler', 'decis', 'deficit', 'develop',\n",
      "       'dieter', 'discuss', 'display', 'divis', 'drift', 'drive', 'easili',\n",
      "       'electr', 'engin', 'entrant', 'eq', 'establish', 'exan', 'execut',\n",
      "       'expand', 'fast', 'fight', 'fine', 'focu', 'follow', 'forc',\n",
      "       'foundat', 'french', 'friday', 'fruit', 'fund', 'german', 'get',\n",
      "       'ghosn', 'hang', 'herecarmak', 'high', 'hold', 'inc', 'includ',\n",
      "       'increasingli', 'industri', 'introduc', 'japanes', 'join', 'law',\n",
      "       'like', 'limit', 'line', 'longer', 'look', 'lot', 'low', 'luxuri',\n",
      "       'made', 'main', 'manufactur', 'may', 'mayb', 'merced', 'mid',\n",
      "       'motor', 'need', 'new', 'news', 'nissan', 'number', 'obviou',\n",
      "       'offic', 'pari', 'pariba', 'partner', 'partnership', 'pearson',\n",
      "       'pension', 'percent', 'perfect', 'physic', 'pickup', 'plan', 'plug',\n",
      "       'power', 'press', 'produc', 'project', 'rather', 'renault', 'sa',\n",
      "       'said', 'saw', 'scope', 'see', 'share', 'shift', 'show', 'signal',\n",
      "       'smart', 'stake', 'start', 'stay', 'strateg', 'strong', 'stuart',\n",
      "       'suppli', 'take', 'tech', 'tesla', 'three', 'thursday', 'tie',\n",
      "       'time', 'togeth', 'truck', 'use', 'vehicl', 'version', 'way',\n",
      "       'weaken', 'work', 'zetsch', 'zoe'], \n",
      "      dtype='<U27')]\n"
     ]
    }
   ],
   "source": [
    "#transformering the words back to their original format (numbers to actual text)\n",
    "cluster_text = cv.inverse_transform(cluster)\n",
    "print(cluster_text)\n",
    "# I recommend using spyder IDE as you can easily access/explore all the results saved in the variables you created "
   ]
  }
 ],
 "metadata": {
  "kernelspec": {
   "display_name": "Python 3",
   "language": "python",
   "name": "python3"
  },
  "language_info": {
   "codemirror_mode": {
    "name": "ipython",
    "version": 3
   },
   "file_extension": ".py",
   "mimetype": "text/x-python",
   "name": "python",
   "nbconvert_exporter": "python",
   "pygments_lexer": "ipython3",
   "version": "3.6.1"
  }
 },
 "nbformat": 4,
 "nbformat_minor": 2
}
